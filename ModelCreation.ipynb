{
  "cells": [
    {
      "cell_type": "markdown",
      "metadata": {
        "colab_type": "text",
        "id": "view-in-github"
      },
      "source": [
        "<a href=\"https://colab.research.google.com/github/SiddharthGoel/test/blob/master/ModelCreation.ipynb\" target=\"_parent\"><img src=\"https://colab.research.google.com/assets/colab-badge.svg\" alt=\"Open In Colab\"/></a>"
      ]
    },
    {
      "cell_type": "code",
      "execution_count": 1,
      "metadata": {
        "colab": {
          "base_uri": "https://localhost:8080/"
        },
        "id": "XjYbZBIidtNa",
        "outputId": "421889ec-411f-4701-b4f8-d2bef09a6529"
      },
      "outputs": [
        {
          "name": "stdout",
          "output_type": "stream",
          "text": [
            "1.5.0\n"
          ]
        }
      ],
      "source": [
        "import sklearn\n",
        "import pandas as pd\n",
        "from sklearn.model_selection import train_test_split\n",
        "from sklearn.preprocessing import StandardScaler\n",
        "from sklearn.ensemble import RandomForestClassifier\n",
        "from sklearn.pipeline import Pipeline\n",
        "from sklearn.metrics import classification_report, accuracy_score\n",
        "from sklearn.model_selection import GridSearchCV\n",
        "import joblib\n",
        "import os\n",
        "\n",
        "print(sklearn.__version__)\n",
        "\n",
        "\n",
        "# Step 1: Load the data\n",
        "data = pd.read_csv(\"https://raw.githubusercontent.com/SiddharthGoel/MushroomClassification/main/mushroom_cleaned.csv\")\n",
        "df = pd.DataFrame(data)\n",
        "\n",
        "# Step 2: Prepare the feature matrix X and target vector y\n",
        "cols = df.columns.to_list()\n",
        "cols.remove('class')\n",
        "X = df[cols]\n",
        "y = df[\"class\"]\n",
        "\n",
        "# Step 3: Split the data into training and test sets\n",
        "X_train, X_test, y_train, y_test = train_test_split(X, y, test_size=0.2, random_state=42, stratify=y)"
      ]
    },
    {
      "cell_type": "code",
      "execution_count": 2,
      "metadata": {},
      "outputs": [
        {
          "name": "stdout",
          "output_type": "stream",
          "text": [
            "Best Parameters: {'rf__max_depth': 30, 'rf__min_samples_leaf': 1, 'rf__min_samples_split': 2, 'rf__n_estimators': 100}\n",
            "Best Cross-Validation Score: 0.9897519916804771\n",
            "Number of misclassifications: 117\n",
            "Misclassified samples:\n",
            "        cap-diameter  cap-shape  gill-attachment  gill-color  stem-height  \\\n",
            "23099           605          2                6          10     0.071196   \n",
            "28466           407          5                1           7     0.187438   \n",
            "26042          1329          5                1          10     0.064090   \n",
            "909             720          6                0          10     1.885615   \n",
            "23050           629          6                6          10     0.202503   \n",
            "\n",
            "       stem-width  stem-color    season  actual  predicted  \n",
            "23099        1613          11  0.943195       0          1  \n",
            "28466         709           6  0.888450       0          1  \n",
            "26042        2451          11  1.804273       1          0  \n",
            "909          1844          11  0.888450       0          1  \n",
            "23050        1790          11  0.888450       0          1  \n",
            "Summary of misclassified samples:\n",
            "        cap-diameter   cap-shape  gill-attachment  gill-color  stem-height  \\\n",
            "count    117.000000  117.000000       117.000000  117.000000   117.000000   \n",
            "mean     674.179487    4.666667         2.290598    8.675214     0.753500   \n",
            "std      269.200848    1.907336         2.671884    2.855210     0.654530   \n",
            "min      123.000000    0.000000         0.000000    1.000000     0.011511   \n",
            "25%      509.000000    2.000000         0.000000   10.000000     0.262188   \n",
            "50%      693.000000    6.000000         1.000000   10.000000     0.457158   \n",
            "75%      820.000000    6.000000         6.000000   10.000000     1.034111   \n",
            "max     1409.000000    6.000000         6.000000   11.000000     2.382989   \n",
            "\n",
            "        stem-width  stem-color      season      actual   predicted  \n",
            "count   117.000000  117.000000  117.000000  117.000000  117.000000  \n",
            "mean   1378.777778    9.820513    0.920267    0.555556    0.444444  \n",
            "std     556.402563    2.737402    0.119717    0.499041    0.499041  \n",
            "min     199.000000    1.000000    0.027372    0.000000    0.000000  \n",
            "25%     935.000000   11.000000    0.888450    0.000000    0.000000  \n",
            "50%    1511.000000   11.000000    0.943195    1.000000    0.000000  \n",
            "75%    1751.000000   11.000000    0.943195    1.000000    1.000000  \n",
            "max    2723.000000   11.000000    1.804273    1.000000    1.000000  \n",
            "Classification Report:\n",
            "              precision    recall  f1-score   support\n",
            "\n",
            "           0       0.99      0.99      0.99      4872\n",
            "           1       0.99      0.99      0.99      5935\n",
            "\n",
            "    accuracy                           0.99     10807\n",
            "   macro avg       0.99      0.99      0.99     10807\n",
            "weighted avg       0.99      0.99      0.99     10807\n",
            "\n",
            "Accuracy: 0.9891736837235126\n"
          ]
        }
      ],
      "source": [
        "# Define the pipeline\n",
        "pipeline = Pipeline([\n",
        "    ('scaler', StandardScaler()),\n",
        "    ('rf', RandomForestClassifier(random_state=42))\n",
        "])\n",
        "\n",
        "# Define the parameter grid\n",
        "param_grid = {\n",
        "    'rf__n_estimators': [50, 75 ,100, 150],\n",
        "    'rf__max_depth': [None, 10, 20, 30],\n",
        "    'rf__min_samples_split': [2, 5, 10],\n",
        "    'rf__min_samples_leaf': [1, 2, 4]\n",
        "}\n",
        "\n",
        "# Perform Grid Search with cross-validation\n",
        "grid_search = GridSearchCV(pipeline, param_grid, cv=5, scoring='accuracy', n_jobs=-1)\n",
        "grid_search.fit(X_train, y_train)\n",
        "\n",
        "# Get the best parameters\n",
        "best_params = grid_search.best_params_\n",
        "best_score = grid_search.best_score_\n",
        "\n",
        "print(\"Best Parameters:\", best_params)\n",
        "print(\"Best Cross-Validation Score:\", best_score)\n",
        "\n",
        "# Best model from grid search\n",
        "best_model = grid_search.best_estimator_\n",
        "\n",
        "# Make predictions on the test set\n",
        "y_pred = best_model.predict(X_test)\n",
        "\n",
        "# Concatenate predictions to the test dataframe\n",
        "X_test_with_preds = X_test.copy()\n",
        "X_test_with_preds['actual'] = y_test\n",
        "X_test_with_preds['predicted'] = y_pred\n",
        "\n",
        "# Identify misclassifications\n",
        "misclassified = X_test_with_preds[X_test_with_preds['actual'] != X_test_with_preds['predicted']]\n",
        "\n",
        "print(\"Number of misclassifications:\", len(misclassified))\n",
        "print(\"Misclassified samples:\\n\", misclassified.head())\n",
        "\n",
        "# Analyze features where the model fails\n",
        "misclassified_summary = misclassified.describe(include='all')\n",
        "print(\"Summary of misclassified samples:\\n\", misclassified_summary)\n",
        "\n",
        "print(\"Classification Report:\")\n",
        "print(classification_report(y_test, y_pred))\n",
        "print(\"Accuracy:\", accuracy_score(y_test, y_pred))"
      ]
    },
    {
      "cell_type": "code",
      "execution_count": 4,
      "metadata": {},
      "outputs": [
        {
          "name": "stdout",
          "output_type": "stream",
          "text": [
            "{'max_depth': 30, 'min_samples_leaf': 1, 'min_samples_split': 2, 'n_estimators': 100}\n",
            "Pipeline saved to mushroom_classifier_pipeline.pkl\n"
          ]
        }
      ],
      "source": [
        "# Strip 'rf__' from the keys\n",
        "cleaned_params = {key.split('__')[1]: value for key, value in best_params.items()}\n",
        "print(cleaned_params)\n",
        "\n",
        "# Train on the full dataset with the best parameters\n",
        "best_pipeline = Pipeline([\n",
        "    ('scaler', StandardScaler()),\n",
        "    ('brf', RandomForestClassifier(**cleaned_params, random_state=42))\n",
        "])\n",
        "\n",
        "# Fit the pipeline on the full dataset\n",
        "best_pipeline.fit(X, y)\n",
        "\n",
        "# Save the best model\n",
        "model_filename = 'mushroom_classifier_pipeline.pkl'\n",
        "joblib.dump(best_pipeline, model_filename)\n",
        "print(f\"Pipeline saved to {model_filename}\")"
      ]
    },
    {
      "cell_type": "code",
      "execution_count": 5,
      "metadata": {},
      "outputs": [
        {
          "name": "stdout",
          "output_type": "stream",
          "text": [
            "Feature Importances:\n",
            "            feature  importance\n",
            "5       stem-width    0.221366\n",
            "2  gill-attachment    0.150775\n",
            "3       gill-color    0.128340\n",
            "0     cap-diameter    0.125613\n",
            "6       stem-color    0.123516\n",
            "4      stem-height    0.118625\n",
            "1        cap-shape    0.093440\n",
            "7           season    0.038325\n"
          ]
        }
      ],
      "source": [
        "# Get feature importances\n",
        "importances = best_pipeline.named_steps['brf'].feature_importances_\n",
        "feature_importances = pd.DataFrame({\n",
        "    'feature': X.columns,\n",
        "    'importance': importances\n",
        "}).sort_values(by='importance', ascending=False)\n",
        "\n",
        "print(\"Feature Importances:\\n\", feature_importances)"
      ]
    }
  ],
  "metadata": {
    "colab": {
      "authorship_tag": "ABX9TyMvu3EmOsiWUvxqC1Jeh4JT",
      "include_colab_link": true,
      "provenance": []
    },
    "kernelspec": {
      "display_name": "Python 3",
      "name": "python3"
    },
    "language_info": {
      "codemirror_mode": {
        "name": "ipython",
        "version": 3
      },
      "file_extension": ".py",
      "mimetype": "text/x-python",
      "name": "python",
      "nbconvert_exporter": "python",
      "pygments_lexer": "ipython3",
      "version": "3.11.9"
    }
  },
  "nbformat": 4,
  "nbformat_minor": 0
}
