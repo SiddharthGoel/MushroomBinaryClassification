{
  "nbformat": 4,
  "nbformat_minor": 0,
  "metadata": {
    "colab": {
      "provenance": [],
      "authorship_tag": "ABX9TyMvu3EmOsiWUvxqC1Jeh4JT",
      "include_colab_link": true
    },
    "kernelspec": {
      "name": "python3",
      "display_name": "Python 3"
    },
    "language_info": {
      "name": "python"
    }
  },
  "cells": [
    {
      "cell_type": "markdown",
      "metadata": {
        "id": "view-in-github",
        "colab_type": "text"
      },
      "source": [
        "<a href=\"https://colab.research.google.com/github/SiddharthGoel/test/blob/master/ModelCreation.ipynb\" target=\"_parent\"><img src=\"https://colab.research.google.com/assets/colab-badge.svg\" alt=\"Open In Colab\"/></a>"
      ]
    },
    {
      "cell_type": "code",
      "execution_count": 1,
      "metadata": {
        "colab": {
          "base_uri": "https://localhost:8080/"
        },
        "id": "XjYbZBIidtNa",
        "outputId": "421889ec-411f-4701-b4f8-d2bef09a6529"
      },
      "outputs": [
        {
          "output_type": "stream",
          "name": "stdout",
          "text": [
            "Classification Report:\n",
            "              precision    recall  f1-score   support\n",
            "\n",
            "           0       0.99      0.99      0.99      4872\n",
            "           1       0.99      0.99      0.99      5935\n",
            "\n",
            "    accuracy                           0.99     10807\n",
            "   macro avg       0.99      0.99      0.99     10807\n",
            "weighted avg       0.99      0.99      0.99     10807\n",
            "\n",
            "Accuracy: 0.9895438141945035\n",
            "Pipeline saved to mushroom_classifier_pipeline.pkl\n"
          ]
        }
      ],
      "source": [
        "import pandas as pd\n",
        "from sklearn.model_selection import train_test_split\n",
        "from sklearn.preprocessing import StandardScaler\n",
        "from sklearn.ensemble import RandomForestClassifier\n",
        "from sklearn.pipeline import Pipeline\n",
        "from sklearn.metrics import classification_report, accuracy_score\n",
        "import joblib\n",
        "\n",
        "# Step 1: Load the data\n",
        "data = pd.read_csv(\"https://raw.githubusercontent.com/SiddharthGoel/MushroomClassification/main/mushroom_cleaned.csv\")\n",
        "df = pd.DataFrame(data)\n",
        "\n",
        "# Step 2: Prepare the feature matrix X and target vector y\n",
        "cols = df.columns.to_list()\n",
        "cols.remove('class')\n",
        "X = df[cols]\n",
        "y = df[\"class\"]\n",
        "\n",
        "# Step 3: Split the data into training and test sets\n",
        "X_train, X_test, y_train, y_test = train_test_split(X, y, test_size=0.2, random_state=42, stratify=y)\n",
        "\n",
        "# Step 4: Define the pipeline\n",
        "pipeline = Pipeline([\n",
        "    ('scaler', StandardScaler()),  # Scaling step\n",
        "    ('classifier', RandomForestClassifier(random_state=42))  # Classification step\n",
        "])\n",
        "\n",
        "# Step 5: Train the model using the pipeline\n",
        "pipeline.fit(X_train, y_train)\n",
        "\n",
        "# Step 6: Evaluate the model\n",
        "y_pred = pipeline.predict(X_test)\n",
        "print(\"Classification Report:\")\n",
        "print(classification_report(y_test, y_pred))\n",
        "print(\"Accuracy:\", accuracy_score(y_test, y_pred))\n",
        "\n",
        "# Step 7: Save the entire pipeline\n",
        "model_filename = 'mushroom_classifier_pipeline.pkl'\n",
        "joblib.dump(pipeline, model_filename)\n",
        "print(f\"Pipeline saved to {model_filename}\")"
      ]
    }
  ]
}